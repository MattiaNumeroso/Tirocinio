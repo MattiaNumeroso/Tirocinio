{
 "cells": [
  {
   "cell_type": "code",
   "execution_count": 1,
   "id": "032a3c6d-178a-4b86-afb6-4e81f74c18f4",
   "metadata": {},
   "outputs": [],
   "source": [
    "import numpy as np\n",
    "import os \n",
    "import seaborn as sns\n",
    "import matplotlib.pyplot as plt\n",
    "from scipy import stats\n",
    "from sklearn import *\n",
    "from sklearn.metrics.pairwise import *\n",
    "import pandas as pd\n",
    "import warnings\n",
    "import time\n",
    "from sklearn import datasets\n",
    "from scipy.cluster.hierarchy import dendrogram\n",
    "from numpy import isnan\n",
    "from pandas import read_csv\n",
    "from sklearn.impute import SimpleImputer\n",
    "from sklearn.preprocessing import StandardScaler\n",
    "from sklearn.preprocessing import RobustScaler\n",
    "from scipy.stats import *\n",
    "from sklearn.metrics.pairwise import cosine_distances\n",
    "from scipy.cluster.hierarchy import linkage, fcluster\n",
    "from sklearn.metrics.cluster import adjusted_rand_score\n",
    "from sklearn.metrics.pairwise import euclidean_distances"
   ]
  },
  {
   "cell_type": "code",
   "execution_count": 2,
   "id": "00725374-1257-4797-ad28-69c7f1524fb8",
   "metadata": {},
   "outputs": [],
   "source": [
    "df_patient_2 = pd.read_excel(r\"C:\\Users\\matti\\OneDrive\\Desktop\\Tirocinio\\Genomica\\Vivi con ricorrenza\\openclinica_rs_ps_pulito.xlsx\", header=0)"
   ]
  },
  {
   "cell_type": "code",
   "execution_count": 3,
   "id": "6790168c-db9c-4f30-9129-830bdd5e6cab",
   "metadata": {},
   "outputs": [],
   "source": [
    "df_patient = pd.read_excel(r\"C:\\Users\\matti\\OneDrive\\Desktop\\Tirocinio\\Genomica\\Vivi con ricorrenza\\Dataset_rs_ps.xlsx\", header=0)"
   ]
  },
  {
   "cell_type": "code",
   "execution_count": 7,
   "id": "91006ffa-5f8a-42d3-9897-32714965978f",
   "metadata": {},
   "outputs": [],
   "source": [
    "alive_dead = pd.get_dummies(df_patient['follow_Status_of_Patient'], prefix='Status').astype(int)"
   ]
  },
  {
   "cell_type": "code",
   "execution_count": 9,
   "id": "acce4310-4f7e-459e-827f-f41c311827dd",
   "metadata": {},
   "outputs": [
    {
     "name": "stdout",
     "output_type": "stream",
     "text": [
      "      Status_Alive  Status_Dead\n",
      "0                1            0\n",
      "1                1            0\n",
      "2                1            0\n",
      "3                1            0\n",
      "4                1            0\n",
      "...            ...          ...\n",
      "1536             1            0\n",
      "1537             0            1\n",
      "1538             0            1\n",
      "1539             1            0\n",
      "1540             1            0\n",
      "\n",
      "[1541 rows x 2 columns]\n"
     ]
    }
   ],
   "source": [
    "print(alive_dead)"
   ]
  },
  {
   "cell_type": "code",
   "execution_count": 11,
   "id": "72b1b3ad-3f4a-4cf1-8a83-85e6c89d4ff2",
   "metadata": {},
   "outputs": [
    {
     "data": {
      "text/plain": [
       "511"
      ]
     },
     "execution_count": 11,
     "metadata": {},
     "output_type": "execute_result"
    }
   ],
   "source": [
    "#INDICE DEI PAZIENTI CHE HANNO AVUTO UNA RECIDIVA DEL TUMORE\n",
    "index_patient_recurrence = df_patient['follow_Date_of_Recurrence'].dropna().index\n",
    "len(index_patient_recurrence)"
   ]
  },
  {
   "cell_type": "code",
   "execution_count": 13,
   "id": "364f4afe-78de-4c54-89e0-21f27dacc328",
   "metadata": {
    "scrolled": true
   },
   "outputs": [
    {
     "name": "stdout",
     "output_type": "stream",
     "text": [
      "5       Alive\n",
      "8        Dead\n",
      "14      Alive\n",
      "20       Dead\n",
      "21       Dead\n",
      "        ...  \n",
      "1528     Dead\n",
      "1529     Dead\n",
      "1531     Dead\n",
      "1535    Alive\n",
      "1537     Dead\n",
      "Name: follow_Status_of_Patient, Length: 511, dtype: object\n"
     ]
    }
   ],
   "source": [
    "# Controlla i valori di \"follow_Status_of_Patient\" per gli indici di \"index_patient_recurrence\"\n",
    "status_values = df_patient.loc[index_patient_recurrence, 'follow_Status_of_Patient']\n",
    "print(status_values)"
   ]
  },
  {
   "cell_type": "code",
   "execution_count": 15,
   "id": "b97e9f91-c804-4cab-bbaa-9cb1bcb88b90",
   "metadata": {},
   "outputs": [
    {
     "name": "stdout",
     "output_type": "stream",
     "text": [
      "follow_Status_of_Patient\n",
      "Dead     355\n",
      "Alive    156\n",
      "Name: count, dtype: int64\n"
     ]
    }
   ],
   "source": [
    "status_counts = status_values.value_counts()\n",
    "print(status_counts)"
   ]
  },
  {
   "cell_type": "code",
   "execution_count": 17,
   "id": "9d5117f2-0e09-4704-bf10-324de76a6be9",
   "metadata": {},
   "outputs": [
    {
     "name": "stdout",
     "output_type": "stream",
     "text": [
      "      Recurrence_Alive  Recurrence_Dead\n",
      "5                    1                0\n",
      "8                    0                1\n",
      "14                   1                0\n",
      "20                   0                1\n",
      "21                   0                1\n",
      "...                ...              ...\n",
      "1528                 0                1\n",
      "1529                 0                1\n",
      "1531                 0                1\n",
      "1535                 1                0\n",
      "1537                 0                1\n",
      "\n",
      "[511 rows x 2 columns]\n"
     ]
    }
   ],
   "source": [
    "# Applica la codifica one-hot alla Serie\n",
    "recurrence = pd.get_dummies(status_values, prefix='Recurrence').astype(int)\n",
    "print(recurrence)\n"
   ]
  },
  {
   "cell_type": "code",
   "execution_count": 19,
   "id": "4044ece2-4465-4157-9838-0f147a7ab544",
   "metadata": {},
   "outputs": [],
   "source": [
    "# Crea una nuova colonna 'Recurrence' con valore predefinito 0\n",
    "df_patient['Recurrence_Tumor'] = 0\n",
    "# Assegna il valore 1 agli indici in index_patient_recurrence\n",
    "df_patient.loc[index_patient_recurrence, 'Recurrence_Tumor'] = 1\n"
   ]
  },
  {
   "cell_type": "code",
   "execution_count": 21,
   "id": "2227ad9c-c4b8-4539-bc2a-4fb88bd2055a",
   "metadata": {},
   "outputs": [],
   "source": [
    "# Crea un DataFrame vuoto con tutti gli indici di df_patient\n",
    "complete_recurrence = pd.DataFrame(0, index=df_patient.index, columns=['Recurrence_Alive', 'Recurrence_Dead'])\n",
    "\n",
    "# Assegna i valori presenti in recurrence ai rispettivi indici\n",
    "complete_recurrence.loc[recurrence.index, ['Recurrence_Alive', 'Recurrence_Dead']] = recurrence\n",
    "\n",
    "df_patient = pd.concat([df_patient, complete_recurrence], axis=1)"
   ]
  },
  {
   "cell_type": "code",
   "execution_count": 23,
   "id": "ebd6cc9b-bea6-4490-a288-29fbc5fd9b48",
   "metadata": {},
   "outputs": [
    {
     "data": {
      "text/plain": [
       "Index(['Unnamed: 0', 'Patient_ID', 'Study_Name', 'Study_OID',\n",
       "       'Study_Start_Date', 'chemo_Best_Tumor_Response',\n",
       "       'chemo_Cancer_Therapy_Agent_Name', 'chemo_Chemotherapy_Treatment',\n",
       "       'chemo_Note_chemo', 'chemo_Number_of_Cycles_Performed_1',\n",
       "       ...\n",
       "       'qol_EQ-5D-5L_24M_Self-Care', 'qol_EQ-5D-5L_24M_Usual_Activities',\n",
       "       'qol_EQ-5D-5L_24M_Pain/Discomfort',\n",
       "       'qol_EQ-5D-5L_24M_Anxiety/Depression', 'qol_EQ-5D-5L_24M_Health_Today',\n",
       "       'Recurrence_Tumor', 'Recurrence_Alive', 'Recurrence_Dead',\n",
       "       'Status_Alive', 'Status_Dead'],\n",
       "      dtype='object', length=563)"
      ]
     },
     "execution_count": 23,
     "metadata": {},
     "output_type": "execute_result"
    }
   ],
   "source": [
    "df_patient = pd.concat([df_patient, alive_dead], axis=1)\n",
    "df_patient.columns"
   ]
  },
  {
   "cell_type": "code",
   "execution_count": 25,
   "id": "37fcc66c-a0c0-4599-94d6-2a398c8407e4",
   "metadata": {},
   "outputs": [
    {
     "data": {
      "text/plain": [
       "array(['SS_UL0006', 'SS_UL0009', 'SS_UL0015', 'SS_UDUS115', 'SS_UDUS116',\n",
       "       'SS_UDUS125', 'SS_UDUS126', 'SS_UDUS129', 'SS_UDUS133',\n",
       "       'SS_UDUS148', 'SS_UDUS163', 'SS_UDUS140', 'SS_MAASTRO_5588',\n",
       "       'SS_MAASTRO_215', 'SS_MAASTRO_416', 'SS_MAASTRO_588',\n",
       "       'SS_MAASTRO_4746', 'SS_MAASTRO_2867', 'SS_MAASTRO_7077',\n",
       "       'SS_MAASTRO_177', 'SS_MAASTRO_7265', 'SS_MAASTRO_5082',\n",
       "       'SS_MAASTRO_8441', 'SS_MAASTRO_8118', 'SS_MAASTRO_8386',\n",
       "       'SS_MAASTRO_6905', 'SS_INT_MI_0045', 'SS_INT_MI_0146',\n",
       "       'SS_INT_MI_0103', 'SS_INT_MI_0055', 'SS_INT_MI_0034',\n",
       "       'SS_INT_0266', 'SS_INT_0056', 'SS_INT_0064', 'SS_INT_0105',\n",
       "       'SS_INT_0148', 'SS_INT_0157', 'SS_INT_0016', 'SS_INT_0017',\n",
       "       'SS_INT_0020', 'SS_INT_0069', 'SS_INT_0267', 'SS_INT_0138',\n",
       "       'SS_INT_0197', 'SS_INT_0272', 'SS_INT_0220', 'SS_INT_0236',\n",
       "       'SS_INT_0247', 'SS_INT_0144', 'SS_INT_0182', 'SS_INT_0024',\n",
       "       'SS_INT_0249', 'SS_INT_0003', 'SS_INT_0313', 'SS_INT_0012',\n",
       "       'SS_INT_0303', 'SS_INT_0310', 'SS_INT_0280', 'SS_INT_0353',\n",
       "       'SS_INT_0354', 'SS_INT_0356', 'SS_INT_0357', 'SS_INT_0361',\n",
       "       'SS_INT_0104', 'SS_INT_0515', 'SS_INT_0390', 'SS_INT_0269',\n",
       "       'SS_INT_0398', 'SS_INT_0402', 'SS_INT_0503', 'SS_INT_0420',\n",
       "       'SS_INT_0264', 'SS_INT_0244', 'SS_INT_0347', 'SS_INT_0296',\n",
       "       'SS_INT_0297', 'SS_INT_0308', 'SS_INT_0309', 'SS_INT_0124',\n",
       "       'SS_INT_0318', 'SS_INT_0324', 'SS_INT_0327', 'SS_INT_0392',\n",
       "       'SS_INT_0423', 'SS_INT_0406', 'SS_INT_0436', 'SS_INT_0413',\n",
       "       'SS_INT_0528', 'SS_INT_0002', 'SS_INT_0485', 'SS_INT_0464',\n",
       "       'SS_INT_0516', 'SS_INT_0255', 'SS_INT_0273', 'SS_INT_0158',\n",
       "       'SS_INT_0328', 'SS_INT_0042', 'SS_INT_0518', 'SS_INT_0517',\n",
       "       'SS_INT_0305', 'SS_INT_0531', 'SS_INT_0530', 'SS_INT_0532',\n",
       "       'SS_INT_0323', 'SS_INT_0165', 'SS_AOP_PR16', 'SS_AOP_PR16_9745',\n",
       "       'SS_AOP_PR17', 'SS_AOP_PRX7', 'SS_AOP_PRX8', 'SS_AOP_PR20_9224',\n",
       "       'SS_AOP_PR21', 'SS_AOP_PR21_9812', 'SS_AOP_PR_A',\n",
       "       'SS_AOP_PR21_122', 'SS_AOP_PR21_5437', 'SS_AOP_PR22',\n",
       "       'SS_AOP_PR17_3965', 'SS_AOP_PR18_5300', 'SS_AOP_PR19_2030',\n",
       "       'SS_AOP_PR_A_1043', 'SS_AOP_PR19_3106', 'SS_SBA_0008',\n",
       "       'SS_SBA_0014', 'SS_SBA0075', 'SS_SBA_0058', 'SS_SBA_0050',\n",
       "       'SS_SBA_0088', 'SS_SBA0082', 'SS_SBA0080', 'SS_SBA_0048', 'SS_91',\n",
       "       'SS_93_9405', 'SS_146', 'SS_158', 'SS_163', 'SS_169', 'SS_173',\n",
       "       'SS_174', 'SS_176', 'SS_226', 'SS_231', 'SS_232', 'SS_251',\n",
       "       'SS_257', 'SS_258', 'SS_276', 'SS_287', 'SS_297', 'SS_298',\n",
       "       'SS_302', 'SS_305', 'SS_307', 'SS_308', 'SS_309', 'SS_327',\n",
       "       'SS_NPR125', 'SS_PR126', 'SS_PR131', 'SS_PR132', 'SS_PR135',\n",
       "       'SS_PR136', 'SS_PR142', 'SS_PR148', 'SS_PR149', 'SS_PR150',\n",
       "       'SS_PR163', 'SS_INT_MI_0118', 'SS_INT_MI_0108', 'SS_INT_MI_0153',\n",
       "       'SS_INT_MI_0092', 'SS_INT_MI_0100', 'SS_INT_MI_0070',\n",
       "       'SS_INT_MI_0243', 'SS_INT_MI_0140', 'SS_INT_MI_0122',\n",
       "       'SS_INT_MI_0041', 'SS_INT_MI_0001', 'SS_INT_MI_0087',\n",
       "       'SS_INT_MI_0097', 'SS_INT_MI_0151', 'SS_INT_MI_0088',\n",
       "       'SS_INT_MI_0076', 'SS_INT_MI_0159', 'SS_INT_MI_0059',\n",
       "       'SS_INT_MI_0018', 'SS_INT_MI_0062', 'SS_INT_0075',\n",
       "       'SS_INT_MI_0235', 'SS_INT_MI_0009', 'SS_INT_MI_0127',\n",
       "       'SS_INT_MI_0090', 'SS_INT_MI_0130', 'SS_INT_MI_0225',\n",
       "       'SS_INT_MI_0128', 'SS_INT_MI_0185', 'SS_INT_MI_0107',\n",
       "       'SS_INT_MI_0224', 'SS_INT_MI_0007', 'SS_INT_MI_0223',\n",
       "       'SS_INT_MI_0093', 'SS_INT_MI_0049', 'SS_INT_MI_0051',\n",
       "       'SS_INT_0065', 'SS_INT_0079', 'SS_INT_0265', 'SS_INT_0259',\n",
       "       'SS_INT_0270', 'SS_INT_0180', 'SS_INT_0186', 'SS_INT_0190',\n",
       "       'SS_INT_0216', 'SS_INT_0014', 'SS_INT_0035', 'SS_INT_0084',\n",
       "       'SS_INT_0123', 'SS_INT_0126', 'SS_INT_0155', 'SS_INT_0139',\n",
       "       'SS_INT_0202', 'SS_INT_0250', 'SS_INT_0172', 'SS_INT_0181',\n",
       "       'SS_INT_0143', 'SS_INT_0271', 'SS_INT_0282', 'SS_INT_0044',\n",
       "       'SS_INT_0277', 'SS_INT_0256', 'SS_INT_0261', 'SS_INT_0052',\n",
       "       'SS_INT_0040', 'SS_INT_0312', 'SS_INT_0330', 'SS_INT_0333',\n",
       "       'SS_INT_0342', 'SS_INT_0071', 'SS_INT_0350', 'SS_INT_0351',\n",
       "       'SS_INT_0077', 'SS_INT_0359', 'SS_INT_0099', 'SS_INT_0363',\n",
       "       'SS_INT_0367', 'SS_INT_0374', 'SS_INT_0382', 'SS_INT_0409',\n",
       "       'SS_INT_0179', 'SS_INT_0412', 'SS_INT_0437', 'SS_INT_0444',\n",
       "       'SS_INT_0446', 'SS_INT_0447', 'SS_INT_0453', 'SS_INT_0454',\n",
       "       'SS_INT_0476', 'SS_INT_0294', 'SS_INT_0438', 'SS_INT_0430',\n",
       "       'SS_INT_0508', 'SS_INT_0506', 'SS_INT_0217', 'SS_INT_0419',\n",
       "       'SS_INT_0415', 'SS_INT_0194', 'SS_INT_0410', 'SS_INT_0400',\n",
       "       'SS_INT_0497', 'SS_INT_0494', 'SS_INT_0470', 'SS_INT_0095',\n",
       "       'SS_INT_0355', 'SS_INT_0491', 'SS_INT_0490', 'SS_INT_0489',\n",
       "       'SS_INT_0293', 'SS_INT_0487', 'SS_INT_0348', 'SS_INT_0486',\n",
       "       'SS_INT_0344', 'SS_INT_0341', 'SS_INT_0335', 'SS_INT_0482',\n",
       "       'SS_INT_0365', 'SS_INT_0383', 'SS_INT_0387', 'SS_INT_0408',\n",
       "       'SS_INT_0421', 'SS_INT_0384', 'SS_INT_0519', 'SS_INT_0427',\n",
       "       'SS_INT_0288', 'SS_INT_0471', 'SS_INT_0385', 'SS_INT_0417',\n",
       "       'SS_INT_0329', 'SS_INT_0037', 'SS_INT_0343', 'SS_INT_0373',\n",
       "       'SS_INT_0380', 'SS_INT_0391', 'SS_INT_0424', 'SS_INT_0535',\n",
       "       'SS_INT_0340', 'SS_INT_0411', 'SS_INT_0168', 'SS_UDUS7',\n",
       "       'SS_UDUS9', 'SS_UDUS22', 'SS_UDUS34', 'SS_UDUS40', 'SS_UDUS51',\n",
       "       'SS_UDUS58', 'SS_UDUS61', 'SS_UDUS4', 'SS_UDUS30', 'SS_UDUS78',\n",
       "       'SS_UDUS81', 'SS_UDUS94', 'SS_UDUS64', 'SS_UDUS62', 'SS_UDUS67',\n",
       "       'SS_MAASTRO_3946', 'SS_MAASTRO_609', 'SS_MAASTRO_2835',\n",
       "       'SS_MAASTRO_9495', 'SS_MAASTRO_7879', 'SS_MAASTRO_8534',\n",
       "       'SS_MAASTRO_6983', 'SS_MAASTRO_8033', 'SS_MAASTRO_6417',\n",
       "       'SS_MAASTRO_9474', 'SS_MAASTRO_3328', 'SS_MAASTRO_7347',\n",
       "       'SS_MAASTRO_2517', 'SS_MAASTRO_5111', 'SS_MAASTRO_9983',\n",
       "       'SS_MAASTRO_6790', 'SS_MAASTRO_5979', 'SS_MAASTRO_7504',\n",
       "       'SS_MAASTRO_4661', 'SS_MAASTRO_3880', 'SS_MAASTRO_6175',\n",
       "       'SS_MAASTRO_6917', 'SS_MAASTRO_7303', 'SS_MAASTRO_3732',\n",
       "       'SS_MAASTRO_7906', 'SS_MAASTRO_1257', 'SS_MAASTRO_272',\n",
       "       'SS_MAASTRO_7006', 'SS_MAASTRO_6474', 'SS_MAASTRO_7773',\n",
       "       'SS_MAASTRO_8623', 'SS_MAASTRO_8354', 'SS_MAASTRO_5470',\n",
       "       'SS_MAASTRO_3180', 'SS_MAASTRO_7048', 'SS_MAASTRO_2500',\n",
       "       'SS_MAASTRO_4462', 'SS_MAASTRO_576', 'SS_MAASTRO_1283',\n",
       "       'SS_MAASTRO_7151', 'SS_MAASTRO_6972', 'SS_MAASTRO_7711',\n",
       "       'SS_MAASTRO_9583', 'SS_MAASTRO_4393', 'SS_MAASTRO_6489',\n",
       "       'SS_MAASTRO_1706', 'SS_MAASTRO_6168', 'SS_MAASTRO_5370',\n",
       "       'SS_MAASTRO_5546', 'SS_MAASTRO_9255', 'SS_MAASTRO_3897',\n",
       "       'SS_MAASTRO_9886', 'SS_MAASTRO_1291', 'SS_MAASTRO_4801',\n",
       "       'SS_MAASTRO_1836', 'SS_MAASTRO_7147', 'SS_MAASTRO_5281',\n",
       "       'SS_MAASTRO_969', 'SS_MAASTRO_238', 'SS_MAASTRO_53813',\n",
       "       'SS_VUMC_011', 'SS_VUMC_020', 'SS_VUMC_021', 'SS_VUMC_040',\n",
       "       'SS_VUMC_064', 'SS_VUMC_066', 'SS_VUMC_068', 'SS_VUMC_077',\n",
       "       'SS_VUMC_088', 'SS_VUMC_107', 'SS_VUMC_116', 'SS_VUMC_119',\n",
       "       'SS_VUMC051', 'SS_VUMC_138', 'SS_VUMC_147', 'SS_VUMC_186',\n",
       "       'SS_VUMC_196', 'SS_VUMC_OC_4275', 'SS_VUMC_OC_1860',\n",
       "       'SS_VUMC_OC_3383', 'SS_VUMC_OC_3744', 'SS_VUMC_OC_6758',\n",
       "       'SS_VUMC_OC_2676', 'SS_VUMC_OC_4196', 'SS_VUMC_OC_8636',\n",
       "       'SS_VUMC_OC_6494', 'SS_VUMC_OC_8600', 'SS_VUMC_OC_8033',\n",
       "       'SS_VUMC_OC_2801', 'SS_VUMC_OC_7559', 'SS_VUMC_OC_5735',\n",
       "       'SS_VUMC_OC_6666', 'SS_VUMC_218', 'SS_VUMC_096', 'SS_VUMC_110',\n",
       "       'SS_VUMC_166', 'SS_VUMC_175', 'SS_VUMC_202', 'SS_VUMC_205',\n",
       "       'SS_VUMC_OP_1439', 'SS_VUMC_OP_639', 'SS_VUMC_OP_2071',\n",
       "       'SS_VUMC_OP_5132', 'SS_VUMC_OP_4053', 'SS_VUMC_OP_8929',\n",
       "       'SS_VUMC_OP_2375', 'SS_VUMC_OP_9850', 'SS_VUMC_OP_7374',\n",
       "       'SS_VUMC_OP_2220', 'SS_VUMC_OP_7702', 'SS_VUMC_OP_6371',\n",
       "       'SS_VUMC_OP_7942', 'SS_VUMC_OP_6471', 'SS_VUMC_OP_604',\n",
       "       'SS_VUMC_OP_6545', 'SS_VUMC_HPL_3735', 'SS_VUMC_HPL_8582',\n",
       "       'SS_VUMC_HPL_167', 'SS_VUMC_HPL_596', 'SS_VUMC_HPL_8569',\n",
       "       'SS_VUMC_HPL_7423', 'SS_VUMC_HPL_259', 'SS_VUMC_HPL_8154',\n",
       "       'SS_VUMC_HPL_7415', 'SS_VUMC_HPL_2485', 'SS_VUMC_HPL_5499',\n",
       "       'SS_VUMC_HPL_2946', 'SS_VUMC_HPL_1753', 'SS_VUMC_HPL_6747',\n",
       "       'SS_VUMC_HPL_1354', 'SS_VUMC_HPL_1509', 'SS_VUMC_HPL_6555',\n",
       "       'SS_VUMC_HPL_4078', 'SS_VUMC_HPL_4620', 'SS_VUMC_HPL_8908',\n",
       "       'SS_VUMC_HPL_9443', 'SS_VUMC_HPL_9990', 'SS_VUMC_HPL_641',\n",
       "       'SS_VUMC_HPL_6441', 'SS_VUMC_HPL_4004', 'SS_VUMC_HPL_9271',\n",
       "       'SS_VUMC_OP_983', 'SS_VUMC_OP_1135', 'SS_VUMC_OP_8135',\n",
       "       'SS_VUMC_OP_3673', 'SS_VUMC_OP_2899', 'SS_VUMC_OP_1079',\n",
       "       'SS_VUMC_OP_5152', 'SS_VUMC_OP_7387', 'SS_VUMC_OP_6646',\n",
       "       'SS_VUMC_OP_5667', 'SS_VUMC_OP_2710', 'SS_VUMC_OP_5431',\n",
       "       'SS_VUMC_OP_3483', 'SS_VUMC_OP_4170', 'SS_VUMC_OP_8325',\n",
       "       'SS_VUMC_OP_7536', 'SS_VUMC_OP_6402', 'SS_VUMC_OP_9515',\n",
       "       'SS_VUMC_OP_5747', 'SS_VUMC_OP_4667', 'SS_VUMC_OP_540',\n",
       "       'SS_VUMC_OP_9673', 'SS_VUMC_OP_5362', 'SS_VUMC_OP_7452',\n",
       "       'SS_VUMC_OP_62', 'SS_VUMC_OP_7574', 'SS_VUMC_HPL_677',\n",
       "       'SS_VUMC_HPL_7065', 'SS_VUMC_HPL_5057', 'SS_VUMC_HPL_7569',\n",
       "       'SS_VUMC_HPL_3990', 'SS_VUMC_HPL_3294', 'SS_VUMC_HPL_1422',\n",
       "       'SS_VUMC_HPL_8699', 'SS_VUMC_HPL_1601', 'SS_VUMC_HPL_6151',\n",
       "       'SS_VUMC_HPL_2682', 'SS_VUMC_HPL_1315', 'SS_VUMC_HPL_3593',\n",
       "       'SS_VUMC_HPL_7464', 'SS_VUMC_HPL_2988', 'SS_VUMC_HPL_4427',\n",
       "       'SS_VUMC_HPL_3711', 'SS_VUMC_HPL_7244', 'SS_VUMC_HPL_8612',\n",
       "       'SS_VUMC_HPL_1859', 'SS_VUMC_HPL_4174', 'SS_VUMC_HPL_5181'],\n",
       "      dtype=object)"
      ]
     },
     "execution_count": 25,
     "metadata": {},
     "output_type": "execute_result"
    }
   ],
   "source": [
    "patient = df_patient.loc[index_patient_recurrence, 'Patient_ID']\n",
    "patient = np.array(patient)\n",
    "patient"
   ]
  },
  {
   "cell_type": "code",
   "execution_count": 27,
   "id": "bca521bb-e7c8-44ca-9a40-b337254e2127",
   "metadata": {},
   "outputs": [
    {
     "data": {
      "text/plain": [
       "Index(['Unnamed: 0', 'Patient_ID', 'Study_Name', 'Study_OID',\n",
       "       'Study_Start_Date', 'clinical_Sex', 'Recurrence_Tumor',\n",
       "       'Recurrence_Alive', 'Recurrence_Dead', 'Status_Alive', 'Status_Dead'],\n",
       "      dtype='object')"
      ]
     },
     "execution_count": 27,
     "metadata": {},
     "output_type": "execute_result"
    }
   ],
   "source": [
    "df_patient_filtered = df_patient.loc[:, df_patient.isnull().sum() == 0]\n",
    "df_patient_filtered.columns"
   ]
  },
  {
   "cell_type": "code",
   "execution_count": 29,
   "id": "6e566eaf-84a9-42ba-bfe6-7e4dcb66c976",
   "metadata": {},
   "outputs": [
    {
     "data": {
      "text/plain": [
       "Index(['Unnamed: 0', 'Study_Start_Date', 'clinical_Age_at_Diagnosis',\n",
       "       'clinical_Date_of_first_Diagnosis', 'clinical_Sex',\n",
       "       'ctn_Anatomical_Tumor_Location', 'ctn_Laterality_of_T',\n",
       "       'ctn_Stage_at_Diagnosis_7Edition', 'ctn_TNM_cN_7Edition',\n",
       "       'ctn_TNM_cT_7Edition', 'ctn_Tumor_Region',\n",
       "       'follow_Date_of_Examination_or_Last_Contact', 'follow_Follow_Up_Period',\n",
       "       'follow_Recurrence', 'follow_Status_of_Patient'],\n",
       "      dtype='object')"
      ]
     },
     "execution_count": 29,
     "metadata": {},
     "output_type": "execute_result"
    }
   ],
   "source": [
    "df_patient_filtered_2 = df_patient_2.loc[:, df_patient_2.isnull().sum() == 0]\n",
    "df_patient_filtered_2.columns"
   ]
  },
  {
   "cell_type": "code",
   "execution_count": 88,
   "id": "fa4f7282-9bc8-43c1-adf2-4e5312052f57",
   "metadata": {},
   "outputs": [],
   "source": [
    "df_patient.to_excel(os.path.join(r\"C:\\Users\\matti\\OneDrive\\Desktop\\Tirocinio\\Genomica\\Vivi con ricorrenza\", 'Dataset_rs_ps_ricorrenza.xlsx'), index=False)"
   ]
  },
  {
   "cell_type": "code",
   "execution_count": 31,
   "id": "6be0421e-8304-4490-a772-62c688338b9c",
   "metadata": {},
   "outputs": [
    {
     "name": "stdout",
     "output_type": "stream",
     "text": [
      "Index([   5,    8,   14,   20,   21,   28,   29,   31,   35,   45,\n",
      "       ...\n",
      "       1505, 1507, 1510, 1511, 1526, 1528, 1529, 1531, 1535, 1537],\n",
      "      dtype='int64', length=511)\n"
     ]
    }
   ],
   "source": [
    "filtered_df = df_patient[df_patient['Patient_ID'].isin(patient)]\n",
    "\n",
    "print(filtered_df.index)"
   ]
  },
  {
   "cell_type": "code",
   "execution_count": 33,
   "id": "7b0368d7-6474-46c9-9a1d-062916c67a4c",
   "metadata": {},
   "outputs": [
    {
     "data": {
      "text/plain": [
       "Index(['Unnamed: 0', 'Patient_ID', 'Study_Name', 'Study_OID',\n",
       "       'Study_Start_Date', 'clinical_Age_at_Diagnosis',\n",
       "       'clinical_Date_of_first_Diagnosis', 'clinical_Hospital', 'clinical_Sex',\n",
       "       'ctn_Anatomical_Tumor_Location', 'ctn_Laterality_of_T',\n",
       "       'ctn_Stage_at_Diagnosis_7Edition', 'ctn_TNM_cN_7Edition',\n",
       "       'ctn_TNM_cT_7Edition', 'ctn_Tumor_Region',\n",
       "       'follow_Date_of_Examination_or_Last_Contact',\n",
       "       'follow_Date_of_Recurrence', 'follow_Follow_Up_Period',\n",
       "       'follow_Recurrence', 'follow_Status_of_Patient',\n",
       "       'follow_Treatment_of_Recurrence', 'follow_Type_of_Recurrence',\n",
       "       'patho_HPV_Status_Evaluated', 'patient_Consent',\n",
       "       'patient_Eligibility_Criteria', 'risk_Additional_precancerous_lesion_1',\n",
       "       'risk_Alcohol_at_Time_of_Diagnosis',\n",
       "       'risk_Family_History_of_Malignancies', 'risk_Oral_Hygiene',\n",
       "       'risk_Smoker_at_Time_of_Diagnosis', 'Recurrence_Tumor',\n",
       "       'Recurrence_Alive', 'Recurrence_Dead', 'Status_Alive', 'Status_Dead'],\n",
       "      dtype='object')"
      ]
     },
     "execution_count": 33,
     "metadata": {},
     "output_type": "execute_result"
    }
   ],
   "source": [
    "#VOGLIO STAMPARE LE COLONNE DEI PAZIENTI CHE HANNO AVUTO UNA RECIDIVA DEL TUMORE CHE NON HANNO MISSING VALUES\n",
    "col_filt = filtered_df.loc[:, filtered_df.isnull().sum() == 0]\n",
    "col_filt.columns"
   ]
  },
  {
   "cell_type": "code",
   "execution_count": 39,
   "id": "fb402426-328d-4ccb-9e76-509f761f594d",
   "metadata": {},
   "outputs": [],
   "source": [
    "col_filt.to_excel(os.path.join(r\"C:\\Users\\matti\\OneDrive\\Desktop\\Tirocinio\\Genomica\\Vivi con ricorrenza\", 'Dataset_pazienti_con_recidiva.xlsx'), index=False)"
   ]
  }
 ],
 "metadata": {
  "kernelspec": {
   "display_name": "Python 3 (ipykernel)",
   "language": "python",
   "name": "python3"
  },
  "language_info": {
   "codemirror_mode": {
    "name": "ipython",
    "version": 3
   },
   "file_extension": ".py",
   "mimetype": "text/x-python",
   "name": "python",
   "nbconvert_exporter": "python",
   "pygments_lexer": "ipython3",
   "version": "3.12.4"
  }
 },
 "nbformat": 4,
 "nbformat_minor": 5
}
